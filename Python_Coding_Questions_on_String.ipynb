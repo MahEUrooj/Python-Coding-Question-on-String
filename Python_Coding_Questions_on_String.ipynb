{
  "cells": [
    {
      "cell_type": "code",
      "execution_count": null,
      "id": "8003ae73",
      "metadata": {
        "id": "8003ae73",
        "outputId": "52b54934-ff01-44cc-883d-3cf4bec29b48"
      },
      "outputs": [
        {
          "name": "stdout",
          "output_type": "stream",
          "text": [
            "bc12321cb\n"
          ]
        }
      ],
      "source": [
        "#Q1) Python program to remove given character from String.\n",
        "\n",
        "s = 'abc12321cba'\n",
        "\n",
        "print(s.replace('a', ''))"
      ]
    },
    {
      "cell_type": "code",
      "execution_count": null,
      "id": "6dd55043",
      "metadata": {
        "id": "6dd55043",
        "outputId": "cc46f2e8-e541-4e1c-e1b4-a6a0d760b303"
      },
      "outputs": [
        {
          "name": "stdout",
          "output_type": "stream",
          "text": [
            "2\n"
          ]
        }
      ],
      "source": [
        "#Q2) Python Program to count occurrence of a given characters in string.\n",
        "\n",
        "count = 0\n",
        "\n",
        "my_string = \"Programiz\"\n",
        "my_char = \"r\"\n",
        "\n",
        "for i in my_string:\n",
        "    if i == my_char:\n",
        "        count += 1\n",
        "\n",
        "print(count)"
      ]
    },
    {
      "cell_type": "code",
      "execution_count": null,
      "id": "671bd8ca",
      "metadata": {
        "id": "671bd8ca",
        "outputId": "16ffcb8f-af10-4370-c476-cb7a19684818"
      },
      "outputs": [
        {
          "name": "stdout",
          "output_type": "stream",
          "text": [
            "Yes\n"
          ]
        }
      ],
      "source": [
        "#Q3) Python program to check a String is is palindrome or not.\n",
        "\n",
        "#function to check string is palindrome or not\n",
        "def isPalindrome(i):\n",
        "    \n",
        "#Reversing string print using predefined function\n",
        "    rev = ''.join(reversed(i))\n",
        "    \n",
        "#Checking if both string are equal or not\n",
        "    if (i == rev):\n",
        "        return True\n",
        "    return False\n",
        "\n",
        "#main function\n",
        "i = \"civic\"\n",
        "ans = isPalindrome(i)\n",
        "\n",
        "if (ans):\n",
        "    print(\"Yes\")\n",
        "else:\n",
        "    print(\"No\")"
      ]
    },
    {
      "cell_type": "code",
      "execution_count": null,
      "id": "cd1f49e3",
      "metadata": {
        "id": "cd1f49e3",
        "outputId": "7d574102-0fdf-4b19-8c44-35a41c18eadf"
      },
      "outputs": [
        {
          "name": "stdout",
          "output_type": "stream",
          "text": [
            "Enter a character: I\n",
            "The Given Character  I is a Vowel\n"
          ]
        }
      ],
      "source": [
        "#Q4) Python program to check given character is vowel or consonant.\n",
        "\n",
        "chr = input(\"Enter a character: \")\n",
        "\n",
        "if(chr == 'a' or chr == 'e' or chr == 'i' or chr == 'o' or chr == 'u' or chr == 'A'\n",
        "       or chr == 'E' or chr == 'I' or chr == 'O' or chr == 'U'):\n",
        "    print(\"The Given Character \", chr, \"is a Vowel\")\n",
        "else:\n",
        "    print(\"The Given Character \", chr, \"is a Consonant\")"
      ]
    },
    {
      "cell_type": "code",
      "execution_count": null,
      "id": "fefd4890",
      "metadata": {
        "id": "fefd4890",
        "outputId": "3aee5e51-1a5f-4919-a701-bdf98f018a33"
      },
      "outputs": [
        {
          "name": "stdout",
          "output_type": "stream",
          "text": [
            "Please Enter Your Own Character : A\n",
            "The Given Character  A is Not a Digit\n"
          ]
        }
      ],
      "source": [
        "#Q5) Python program to check given character is digit or not.\n",
        "\n",
        "ch = input(\"Please Enter Your Own Character : \")\n",
        "\n",
        "if(ch >= '0' and ch <= '9'):\n",
        "    print(\"The Given Character \", ch, \"is a Digit\")\n",
        "else:\n",
        "    print(\"The Given Character \", ch, \"is Not a Digit\")"
      ]
    },
    {
      "cell_type": "code",
      "execution_count": null,
      "id": "37088ae4",
      "metadata": {
        "id": "37088ae4",
        "outputId": "0258f81a-2558-41dd-f601-cf6405f7e9bc"
      },
      "outputs": [
        {
          "name": "stdout",
          "output_type": "stream",
          "text": [
            "Please Enter your Own String : I am old.\n",
            "Please Enter your Own Character :  \n",
            "Please Enter the New Character : *\n",
            "\n",
            "Original String :   I am old.\n",
            "Modified String :   I*am*old.\n"
          ]
        }
      ],
      "source": [
        "#Q6) Python program to replace the string space with a given character character.\n",
        "\n",
        "\n",
        "str1 = input(\"Please Enter your Own String : \")\n",
        "ch = input(\"Please Enter your Own Character : \")\n",
        "newch = input(\"Please Enter the New Character : \")\n",
        "\n",
        "str2 = str1.replace(ch, newch)\n",
        "\n",
        "print(\"\\nOriginal String :  \", str1)\n",
        "print(\"Modified String :  \", str2)"
      ]
    },
    {
      "cell_type": "code",
      "execution_count": null,
      "id": "69fb3476",
      "metadata": {
        "id": "69fb3476",
        "outputId": "1d04401d-f25c-40be-d00e-8e5e6fad68f3"
      },
      "outputs": [
        {
          "name": "stdout",
          "output_type": "stream",
          "text": [
            "Bind\n"
          ]
        }
      ],
      "source": [
        "#Q7) Python program to replace the string space with a given character using replace() method.\n",
        "\n",
        "str1=\"Band\"\n",
        "str2=str1.replace(\"a\",\"i\")\n",
        "\n",
        "print(str2)"
      ]
    },
    {
      "cell_type": "code",
      "execution_count": null,
      "id": "20dbf24b",
      "metadata": {
        "id": "20dbf24b",
        "outputId": "bc9729b6-d1e0-4ec7-e01b-0c8908bfd98d"
      },
      "outputs": [
        {
          "name": "stdout",
          "output_type": "stream",
          "text": [
            "P\n"
          ]
        }
      ],
      "source": [
        "#Q8) Python program to convert lowercase character to uppercase of string.\n",
        "\n",
        "alphabet1=\"p\"\n",
        "alphabet2=alphabet1.upper()\n",
        "\n",
        "print(alphabet2)"
      ]
    },
    {
      "cell_type": "code",
      "execution_count": null,
      "id": "2c54f9a7",
      "metadata": {
        "id": "2c54f9a7",
        "outputId": "bb7b0b13-35f8-4859-9e26-7b133b5fd3a0"
      },
      "outputs": [
        {
          "name": "stdout",
          "output_type": "stream",
          "text": [
            "Enter a vowel: B\n",
            "The Given Character  B is a Consonant\n"
          ]
        }
      ],
      "source": [
        "#Q9) Python program to convert lowercase vowel to uppercase in string.\n",
        "\n",
        "chr=input(\"Enter a vowel: \")\n",
        "if(chr == 'a' or chr == 'e' or chr == 'i' or chr == 'o' or chr == 'u'):\n",
        "     print(\"The Given Character \", chr, \"is a Vowel\")\n",
        "     print(chr.upper())\n",
        "else:\n",
        "    print(\"The Given Character \", chr, \"is a Consonant\")"
      ]
    },
    {
      "cell_type": "code",
      "execution_count": null,
      "id": "9acf7c3b",
      "metadata": {
        "id": "9acf7c3b",
        "outputId": "e82dedcc-a70b-46a6-9af5-21b0909b431d"
      },
      "outputs": [
        {
          "name": "stdout",
          "output_type": "stream",
          "text": [
            "Enter the String: \n",
            "Sliva\n",
            "\n",
            "String after removing Vowels: \n",
            "Slv\n"
          ]
        }
      ],
      "source": [
        "#Q10) Python program to delete vowels in a given string.\n",
        "\n",
        "print(\"Enter the String: \")\n",
        "text = input()\n",
        "\n",
        "vowels = ['a', 'e', 'i', 'o', 'u', 'A', 'E', 'I', 'O', 'U']\n",
        "newtext = \"\"\n",
        "textlen = len(text)\n",
        "\n",
        "for i in range(textlen):\n",
        "    if text[i] not in vowels:\n",
        "        newtext = newtext + text[i]\n",
        "\n",
        "print(\"\\nString after removing Vowels: \")\n",
        "text = newtext\n",
        "print(text)"
      ]
    },
    {
      "cell_type": "code",
      "execution_count": null,
      "id": "a86c644a",
      "metadata": {
        "id": "a86c644a",
        "outputId": "ddb3b425-eedf-4d85-a143-7c74fe2d4672"
      },
      "outputs": [
        {
          "name": "stdout",
          "output_type": "stream",
          "text": [
            "Please Enter Your Own String : House\n",
            "Total Number of Vowels in this String =  3\n",
            "Total Number of Consonants in this String =  2\n"
          ]
        }
      ],
      "source": [
        "#Q11) Python program to count occurrence of vowels & consonant in a string.\n",
        "\n",
        "str1 = input(\"Please Enter Your Own String : \")\n",
        "vowels = 0\n",
        "consonants = 0\n",
        "\n",
        "for i in str1:\n",
        "    if(i == 'a' or i == 'e' or i == 'i' or i == 'o' or i == 'u'\n",
        "       or i == 'A' or i == 'E' or i == 'I' or i == 'O' or i == 'U'):\n",
        "        vowels = vowels + 1\n",
        "    else:\n",
        "        consonants = consonants + 1\n",
        " \n",
        "print(\"Total Number of Vowels in this String = \", vowels)\n",
        "print(\"Total Number of Consonants in this String = \", consonants)"
      ]
    },
    {
      "cell_type": "code",
      "execution_count": null,
      "id": "5214adb4",
      "metadata": {
        "id": "5214adb4",
        "outputId": "650a6fd4-47c5-4aac-fbed-c91832889d57"
      },
      "outputs": [
        {
          "name": "stdout",
          "output_type": "stream",
          "text": [
            "The original string is : Ethnicity\n",
            "The maximum of all characters in GeeksforGeeks is : t\n"
          ]
        }
      ],
      "source": [
        "#Q12) Python program to print the highest frequency character in a string.\n",
        "\n",
        "# initializing string \n",
        "test_str = \"Ethnicity\"\n",
        "  \n",
        "# printing original string\n",
        "print (\"The original string is : \" + test_str)\n",
        "  \n",
        "# using naive method to get\n",
        "# Maximum frequency character in String\n",
        "all_freq = {}\n",
        "for i in test_str:\n",
        "    if i in all_freq:\n",
        "        all_freq[i] += 1\n",
        "    else:\n",
        "        all_freq[i] = 1\n",
        "res = max(all_freq, key = all_freq.get) \n",
        "  \n",
        "# printing result \n",
        "print (\"The maximum of all characters in GeeksforGeeks is : \" + str(res))"
      ]
    },
    {
      "cell_type": "code",
      "execution_count": null,
      "id": "904f1628",
      "metadata": {
        "id": "904f1628",
        "outputId": "2f5fbbc8-64c1-4eeb-91bd-1c1213108326"
      },
      "outputs": [
        {
          "name": "stdout",
          "output_type": "stream",
          "text": [
            "Given String: Geeks for Geeks\n",
            "Given Specified Character: -\n",
            "After replacing vowels with the specified character: G--ks f-r G--ks\n"
          ]
        }
      ],
      "source": [
        "#Q13) Python program to replace first occurrence of vowel with '-' in string.\n",
        "\n",
        "# Driver Code\n",
        "# input string\n",
        "input_str = \"Geeks for Geeks\"\n",
        " \n",
        "# specified character\n",
        "K = \"-\"\n",
        " \n",
        "# printing input\n",
        "print(\"Given String:\", input_str)\n",
        "print(\"Given Specified Character:\", K)\n",
        " \n",
        "# printing output\n",
        "print(\"After replacing vowels with the specified character:\",\n",
        "      replaceVowelsWithK(input_str, K))"
      ]
    },
    {
      "cell_type": "code",
      "execution_count": null,
      "id": "73eccfaa",
      "metadata": {
        "id": "73eccfaa",
        "outputId": "213714ef-ce2b-4c71-99bc-c22caef316e9"
      },
      "outputs": [
        {
          "name": "stdout",
          "output_type": "stream",
          "text": [
            "Please Enter your Own String : murooj158@gmail.com\n",
            "\n",
            "Total Number of Alphabets in this String :   14\n",
            "Total Number of Digits in this String :   3\n",
            "Total Number of Special Characters in this String :   2\n"
          ]
        }
      ],
      "source": [
        "#Q14) Python program to count alphabets, digits and special characters.\n",
        "\n",
        "string = input(\"Please Enter your Own String : \")\n",
        "alphabets = digits = special = 0\n",
        "\n",
        "for i in range(len(string)):\n",
        "    if(string[i].isalpha()):\n",
        "        alphabets = alphabets + 1\n",
        "    elif(string[i].isdigit()):\n",
        "        digits = digits + 1\n",
        "    else:\n",
        "        special = special + 1\n",
        "        \n",
        "print(\"\\nTotal Number of Alphabets in this String :  \", alphabets)\n",
        "print(\"Total Number of Digits in this String :  \", digits)\n",
        "print(\"Total Number of Special Characters in this String :  \", special)"
      ]
    },
    {
      "cell_type": "code",
      "execution_count": null,
      "id": "2dc3cad9",
      "metadata": {
        "id": "2dc3cad9",
        "outputId": "1b947ab2-0a98-4e72-a1e1-3a6f2e2fe19f"
      },
      "outputs": [
        {
          "name": "stdout",
          "output_type": "stream",
          "text": [
            "['R', 'o', 'y', 'a', 'l', 't', 'y']\n"
          ]
        }
      ],
      "source": [
        "#Q15) Python program to separate characters in a given string.\n",
        "\n",
        "# Python3 program to Split string into characters\n",
        "def split(word):\n",
        "    return list(word)\n",
        "     \n",
        "# Driver code\n",
        "word = 'Royalty'\n",
        "print(split(word))"
      ]
    },
    {
      "cell_type": "code",
      "execution_count": null,
      "id": "9fc1605f",
      "metadata": {
        "id": "9fc1605f",
        "outputId": "488000e5-0b3c-4a13-88cd-a7667eed8b4c"
      },
      "outputs": [
        {
          "name": "stdout",
          "output_type": "stream",
          "text": [
            "Wonderful\n"
          ]
        }
      ],
      "source": [
        "#Q16) Python program to remove blank space from string.\n",
        "\n",
        "# Python3 code to remove whitespace\n",
        "def remove(string):\n",
        "    return string.replace(\" \", \"\")\n",
        "      \n",
        "# Driver Program\n",
        "string = 'W o n d e r f u l'\n",
        "print(remove(string))"
      ]
    },
    {
      "cell_type": "code",
      "execution_count": null,
      "id": "db196c96",
      "metadata": {
        "id": "db196c96",
        "outputId": "774eb068-086e-4065-c07b-2666c2a8933a"
      },
      "outputs": [
        {
          "name": "stdout",
          "output_type": "stream",
          "text": [
            "actuor\n"
          ]
        }
      ],
      "source": [
        "#Q17) Python program to remove repeated character from string.\n",
        "\n",
        "string=\"actuator\"\n",
        "p=\"\"\n",
        "for char in string:\n",
        "    if char not in p:\n",
        "        p=p+char\n",
        "print(p)\n",
        "k=list(\"actuator\")"
      ]
    },
    {
      "cell_type": "code",
      "execution_count": null,
      "id": "b0818380",
      "metadata": {
        "id": "b0818380",
        "outputId": "544b1ec5-3daf-476b-d44c-fbf20bd517de"
      },
      "outputs": [
        {
          "name": "stdout",
          "output_type": "stream",
          "text": [
            "Enter the string: Umberella\n",
            "U m b r a "
          ]
        }
      ],
      "source": [
        "#Q18) Python program to print all non repeating character in string.\n",
        "\n",
        "#take user input\n",
        "String = input(\"Enter the string: \")\n",
        "for i in String:\n",
        "#initialize a count variable\n",
        "    count = 0\n",
        "    for j in String:\n",
        "#check for repeated characters\n",
        "        if i == j:\n",
        "            count+=1\n",
        "#if character is found more than 1 time\n",
        "#brerak the loop\n",
        "        if count > 1:\n",
        "            break\n",
        "#print for nonrepeating characters\n",
        "    if count == 1:\n",
        "        print(i,end = \" \")"
      ]
    },
    {
      "cell_type": "code",
      "execution_count": null,
      "id": "0234d8a8",
      "metadata": {
        "id": "0234d8a8",
        "outputId": "801b1ae5-8650-4658-b082-73467bad29f4"
      },
      "outputs": [
        {
          "name": "stdout",
          "output_type": "stream",
          "text": [
            "Enter The String: Apple\n",
            "The Final String : Str2  =  Apple\n",
            "The Final String : Str3  =  Apple\n"
          ]
        }
      ],
      "source": [
        "#Q19) Python program to copy one string to another string.\n",
        "\n",
        "# Python Program to Copy a String to Another String\n",
        "\n",
        "# Take the Input From the User\n",
        "str1 = input(\"Enter The String: \")\n",
        "\n",
        "str2 = str1\n",
        "str3 = str1[:]\n",
        "\n",
        "print(\"The Final String : Str2  = \", str2)\n",
        "print(\"The Final String : Str3  = \", str3)"
      ]
    },
    {
      "cell_type": "code",
      "execution_count": null,
      "id": "d96a7334",
      "metadata": {
        "id": "d96a7334",
        "outputId": "ec48dc4c-a740-4a39-89d5-a8094827c27b"
      },
      "outputs": [
        {
          "name": "stdout",
          "output_type": "stream",
          "text": [
            "Enter the string : anmbcdeghief\n",
            "String Sorted in ascending order : abcdeefghimn\n"
          ]
        }
      ],
      "source": [
        "#Q20) Python program to sort characters of string in ascending order.\n",
        "\n",
        "#taking input from the user\n",
        "string = input(\"Enter the string : \")\n",
        "#converting string into list of its characters\n",
        "strList=list(string) \n",
        "#sorting elements of list\n",
        "sortedString=''.join(sorted(strList)) \n",
        "print(\"String Sorted in ascending order :\", sortedString)"
      ]
    },
    {
      "cell_type": "code",
      "execution_count": null,
      "id": "1a44bf08",
      "metadata": {
        "id": "1a44bf08",
        "outputId": "8ea743b3-942d-47e4-e779-ab6ccb63985b"
      },
      "outputs": [
        {
          "name": "stdout",
          "output_type": "stream",
          "text": [
            "The original message is : \n",
            "Hi! Good Morning\n",
            "The output of the sorted() method is :  \n",
            "[' ', ' ', '!', 'G', 'H', 'M', 'd', 'g', 'i', 'i', 'n', 'n', 'o', 'o', 'o', 'r']\n",
            "The sorted message is :  \n",
            "  !GHMdgiinnooor\n"
          ]
        }
      ],
      "source": [
        "#Q21) Python Program to sort character of string in descending order.\n",
        "\n",
        "# creating string\n",
        "msg = \"Hi! Good Morning\"\n",
        "print(\"The original message is : \")\n",
        "print(msg)\n",
        "# using sorted() method to get list of sorted characters\n",
        "alt_msg = sorted(msg)\n",
        "print( \"The output of the sorted() method is :  \" )\n",
        "print( alt_msg )\n",
        "# using join() method to join list of sorted characters\n",
        "sort_msg = \"\".join(alt_msg)\n",
        "print( \"The sorted message is :  \" )\n",
        "print( sort_msg )"
      ]
    }
  ],
  "metadata": {
    "kernelspec": {
      "display_name": "Python 3 (ipykernel)",
      "language": "python",
      "name": "python3"
    },
    "language_info": {
      "codemirror_mode": {
        "name": "ipython",
        "version": 3
      },
      "file_extension": ".py",
      "mimetype": "text/x-python",
      "name": "python",
      "nbconvert_exporter": "python",
      "pygments_lexer": "ipython3",
      "version": "3.9.7"
    },
    "colab": {
      "name": "Python Coding Questions on String.ipynb",
      "provenance": [],
      "collapsed_sections": []
    }
  },
  "nbformat": 4,
  "nbformat_minor": 5
}